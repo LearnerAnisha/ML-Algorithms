{
 "cells": [
  {
   "cell_type": "code",
   "execution_count": 39,
   "metadata": {},
   "outputs": [],
   "source": [
    "import pandas as pd\n",
    "import numpy as np\n",
    "import matplotlib as plt\n",
    "import time"
   ]
  },
  {
   "cell_type": "markdown",
   "metadata": {},
   "source": [
    "Problem - 1: Perform a classification task with knn from scratch."
   ]
  },
  {
   "cell_type": "markdown",
   "metadata": {},
   "source": [
    "1. Load the Dataset:\n",
    "• Read the dataset into a pandas DataFrame.\n",
    "• Display the first few rows and perform exploratory data analysis (EDA) to understand the dataset\n",
    "(e.g., check data types, missing values, summary statistics)."
   ]
  },
  {
   "cell_type": "code",
   "execution_count": 2,
   "metadata": {},
   "outputs": [],
   "source": [
    "data = pd.read_csv(\"/Users/anishagautam/Personal/ML Algorithm/diabetes.csv\")"
   ]
  },
  {
   "cell_type": "code",
   "execution_count": 3,
   "metadata": {},
   "outputs": [
    {
     "name": "stdout",
     "output_type": "stream",
     "text": [
      "Data types of the dataset columns:\n",
      " Pregnancies                   int64\n",
      "Glucose                       int64\n",
      "BloodPressure                 int64\n",
      "SkinThickness                 int64\n",
      "Insulin                       int64\n",
      "BMI                         float64\n",
      "DiabetesPedigreeFunction    float64\n",
      "Age                           int64\n",
      "Outcome                       int64\n",
      "dtype: object\n",
      "Total null values of the dataset:\n",
      " Pregnancies                 0\n",
      "Glucose                     0\n",
      "BloodPressure               0\n",
      "SkinThickness               0\n",
      "Insulin                     0\n",
      "BMI                         0\n",
      "DiabetesPedigreeFunction    0\n",
      "Age                         0\n",
      "Outcome                     0\n",
      "dtype: int64\n",
      "Summary statistics of dataset:\n",
      "        Pregnancies     Glucose  BloodPressure  SkinThickness     Insulin  \\\n",
      "count   768.000000  768.000000     768.000000     768.000000  768.000000   \n",
      "mean      3.845052  120.894531      69.105469      20.536458   79.799479   \n",
      "std       3.369578   31.972618      19.355807      15.952218  115.244002   \n",
      "min       0.000000    0.000000       0.000000       0.000000    0.000000   \n",
      "25%       1.000000   99.000000      62.000000       0.000000    0.000000   \n",
      "50%       3.000000  117.000000      72.000000      23.000000   30.500000   \n",
      "75%       6.000000  140.250000      80.000000      32.000000  127.250000   \n",
      "max      17.000000  199.000000     122.000000      99.000000  846.000000   \n",
      "\n",
      "              BMI  DiabetesPedigreeFunction         Age     Outcome  \n",
      "count  768.000000                768.000000  768.000000  768.000000  \n",
      "mean    31.992578                  0.471876   33.240885    0.348958  \n",
      "std      7.884160                  0.331329   11.760232    0.476951  \n",
      "min      0.000000                  0.078000   21.000000    0.000000  \n",
      "25%     27.300000                  0.243750   24.000000    0.000000  \n",
      "50%     32.000000                  0.372500   29.000000    0.000000  \n",
      "75%     36.600000                  0.626250   41.000000    1.000000  \n",
      "max     67.100000                  2.420000   81.000000    1.000000  \n"
     ]
    }
   ],
   "source": [
    "print(\"Data types of the dataset columns:\\n\",data.dtypes)\n",
    "print(\"Total null values of the dataset:\\n\",data.isnull().sum())\n",
    "print(\"Summary statistics of dataset:\\n\",data.describe())"
   ]
  },
  {
   "cell_type": "markdown",
   "metadata": {},
   "source": [
    "2. Handle Missing Data:\n",
    "• Handle any missing values appropriately, either by dropping or imputing them based on the data."
   ]
  },
  {
   "cell_type": "code",
   "execution_count": 4,
   "metadata": {},
   "outputs": [
    {
     "data": {
      "text/plain": [
       "Pregnancies                 0\n",
       "Glucose                     0\n",
       "BloodPressure               0\n",
       "SkinThickness               0\n",
       "Insulin                     0\n",
       "BMI                         0\n",
       "DiabetesPedigreeFunction    0\n",
       "Age                         0\n",
       "Outcome                     0\n",
       "dtype: int64"
      ]
     },
     "execution_count": 4,
     "metadata": {},
     "output_type": "execute_result"
    }
   ],
   "source": [
    "data.isnull().sum()"
   ]
  },
  {
   "cell_type": "markdown",
   "metadata": {},
   "source": [
    "3. Feature Engineering:\n",
    "• Separate the feature matrix (X) and target variable (y).\n",
    "• Perform a train - test split from scratch using a 70% − 30% ratio."
   ]
  },
  {
   "cell_type": "code",
   "execution_count": 10,
   "metadata": {},
   "outputs": [],
   "source": [
    "x = data.drop(columns=['Outcome']).values\n",
    "y = data['Outcome'].values\n",
    "\n"
   ]
  },
  {
   "cell_type": "code",
   "execution_count": 11,
   "metadata": {},
   "outputs": [
    {
     "name": "stdout",
     "output_type": "stream",
     "text": [
      "Shape of X_train:  (538, 8)\n",
      "Shape of X_test (230, 8)\n",
      "Shape of Y_train (538,)\n",
      "Shape of Y_test (230,)\n"
     ]
    }
   ],
   "source": [
    "def train_test_split(x,y,test_size=0.3, random_seed=42):\n",
    "  np.random.seed(random_seed)\n",
    "  indices = np.arange(x.shape[0])\n",
    "  np.random.shuffle(indices)\n",
    "\n",
    "  test_split_size = int (len(x) * test_size)\n",
    "  test_indices = indices[:test_split_size]\n",
    "  train_indices = indices[test_split_size:]\n",
    "\n",
    "  x_train = x[train_indices]\n",
    "  x_test = x[test_indices]\n",
    "  y_train = y[train_indices]\n",
    "  y_test = y[test_indices]\n",
    "\n",
    "  return x_train,y_train,x_test,y_test\n",
    "  \n",
    "x_train,y_train,x_test, y_test = train_test_split(x, y, test_size=0.3)\n",
    "\n",
    "# Output shapes to verify\n",
    "print(\"Shape of X_train: \", x_train.shape)  \n",
    "print(\"Shape of X_test\", x_test.shape)      \n",
    "print(\"Shape of Y_train\", y_train.shape)   \n",
    "print(\"Shape of Y_test\", y_test.shape)  "
   ]
  },
  {
   "cell_type": "markdown",
   "metadata": {},
   "source": [
    "4. Implement KNN:\n",
    "• Build the KNN algorithm from scratch (no libraries like sickit-learn for KNN).\n",
    "• Compute distances using Euclidean distance.\n",
    "• Write functions for:\n",
    "– Predicting the class for a single query.\n",
    "– Predicting classes for all test samples.\n",
    "• Evaluate the performance using accuracy."
   ]
  },
  {
   "cell_type": "code",
   "execution_count": 12,
   "metadata": {},
   "outputs": [],
   "source": [
    "def euclidean_distance(point1,point2):\n",
    "  if (point1.shape != point2.shape) :\n",
    "    raise ValueError(\"Points must have same dimension to calculate distance.\")\n",
    "  distance = np.sqrt(np.sum(point1 - point2)**2)\n",
    "  return distance"
   ]
  },
  {
   "cell_type": "code",
   "execution_count": 13,
   "metadata": {},
   "outputs": [],
   "source": [
    "def knn_predict_single(query,x_train,y_train,k=3):\n",
    "  distance = [euclidean_distance(query,x) for x in x_train]\n",
    "  sorted_indices = np.argsort(distance)\n",
    "  nearest_indices = sorted_indices[:k]\n",
    "  nearest_labels = y_train[nearest_indices]\n",
    "  prediction = np.bincount(nearest_labels).argmax()\n",
    "  return prediction"
   ]
  },
  {
   "cell_type": "code",
   "execution_count": 14,
   "metadata": {},
   "outputs": [],
   "source": [
    "def knn_predict(x_test,x_train,y_train,k=3):\n",
    "  predictions = [knn_predict_single(x,x_train,y_train,k) for x in x_test]\n",
    "  return np.array(predictions)\n"
   ]
  },
  {
   "cell_type": "code",
   "execution_count": 15,
   "metadata": {},
   "outputs": [
    {
     "name": "stdout",
     "output_type": "stream",
     "text": [
      "Accuracy of KNN model on the test data is:  61.73913043478261\n"
     ]
    }
   ],
   "source": [
    "def compute_accuracy(y_true,y_pred):\n",
    "  correct_predictions = np.sum(y_true == y_pred)\n",
    "  total_predictions = len(y_true)\n",
    "  accuracy = (correct_predictions / total_predictions) * 100\n",
    "  return accuracy\n",
    "\n",
    "try:\n",
    "  predictions = knn_predict(x_test,x_train,y_train,k=3)\n",
    "  accuracy = compute_accuracy(y_test,predictions)\n",
    "  print (\"Accuracy of KNN model on the test data is: \",accuracy)\n",
    "except Exception as e:\n",
    "  print(\"An unexpected error occurred.\",e)"
   ]
  },
  {
   "cell_type": "markdown",
   "metadata": {},
   "source": [
    "Problem - 2 - Experimentation:"
   ]
  },
  {
   "cell_type": "markdown",
   "metadata": {},
   "source": [
    "1. Repeat the Classification Task:\n",
    "• Scale the Feature matrix X.\n",
    "• Use the scaled data for training and testing the kNN Classifier.\n",
    "• Record the results."
   ]
  },
  {
   "cell_type": "code",
   "execution_count": 19,
   "metadata": {},
   "outputs": [],
   "source": [
    "# standard scaling \n",
    "X_standard = (x - x.mean()) / x.std()\n"
   ]
  },
  {
   "cell_type": "code",
   "execution_count": 31,
   "metadata": {},
   "outputs": [
    {
     "name": "stdout",
     "output_type": "stream",
     "text": [
      "Shape of X_train:  (538, 8)\n",
      "Shape of X_test (230, 8)\n",
      "Shape of Y_train (538,)\n",
      "Shape of Y_test (230,)\n"
     ]
    }
   ],
   "source": [
    "x_train_scale,y_train_scale,x_test_scale, y_test_scale = train_test_split(X_standard, y, test_size=0.3)\n",
    "# Output shapes to verify\n",
    "print(\"Shape of X_train: \", x_train_scale.shape)  \n",
    "print(\"Shape of X_test\", x_test_scale.shape)      \n",
    "print(\"Shape of Y_train\", y_train_scale.shape)   \n",
    "print(\"Shape of Y_test\", y_test_scale.shape) "
   ]
  },
  {
   "cell_type": "code",
   "execution_count": 36,
   "metadata": {},
   "outputs": [],
   "source": [
    "def knn_predict_single_scale(query,x_train_scale,y_train_scale,k=3):\n",
    "  distance = [euclidean_distance(query,i) for i in x_train_scale]\n",
    "  sorted_indices = np.argsort(distance)\n",
    "  nearest_indices = sorted_indices[:k]\n",
    "  nearest_labels = y_train_scale[nearest_indices]\n",
    "  prediction = np.bincount(nearest_labels).argmax()\n",
    "  return prediction"
   ]
  },
  {
   "cell_type": "code",
   "execution_count": 37,
   "metadata": {},
   "outputs": [],
   "source": [
    "def knn_predict_scale(x_test_scale,x_train_scale,y_train_scale,k=3):\n",
    "  predictions = [knn_predict_single_scale(i,x_train_scale,y_train_scale,k) for i in x_test_scale]\n",
    "  return np.array(predictions)\n"
   ]
  },
  {
   "cell_type": "code",
   "execution_count": 38,
   "metadata": {},
   "outputs": [
    {
     "name": "stdout",
     "output_type": "stream",
     "text": [
      "Accuracy of KNN model on the test data is:  61.73913043478261\n"
     ]
    }
   ],
   "source": [
    "try:\n",
    "  predictions = knn_predict_scale(x_test_scale,x_train_scale,y_train_scale,k=3)\n",
    "  accuracy = compute_accuracy(y_test_scale,predictions)\n",
    "  print (\"Accuracy of KNN model on the test data is: \",accuracy)\n",
    "except Exception as e:\n",
    "  print(\"An unexpected error occurred.\",e)"
   ]
  },
  {
   "cell_type": "markdown",
   "metadata": {},
   "source": [
    "Problem - 3 - Experimentation with k:"
   ]
  },
  {
   "cell_type": "markdown",
   "metadata": {},
   "source": [
    "1. Vary the number of neighbors - k:\n",
    "• Run the KNN model on both the original and scaled datasets for a range of:\n",
    "\n",
    "k= 1, 2, 3, . . . 15\n",
    "\n",
    "• For each k, record:\n",
    "– Accuracy.\n",
    "– Time taken to make predictions."
   ]
  },
  {
   "cell_type": "code",
   "execution_count": 40,
   "metadata": {},
   "outputs": [],
   "source": [
    "accuracies = {}\n",
    "times = {}\n",
    "def experiment_knn_k_values(X_train,Y_train,X_test,Y_test,k_values):\n",
    "  for k in k_values:\n",
    "    # Record start time before making predictions\n",
    "    start_time = time.time()\n",
    "    #make predictions using the current value of k\n",
    "    predictions = knn_predict(X_test,X_train,Y_train,k=k)\n",
    "    # Record end time after making predictions\n",
    "    end_time = time.time()\n",
    "    # compute the accuracy\n",
    "    accuracy = compute_accuracy(Y_test,predictions)\n",
    "    accuracies[k] = accuracy\n",
    "    times[k] = end_time - start_time\n",
    "    print(f\"Accuracy for k={k}: {accuracy:.2f}%\")\n",
    "    print(f\"Time taken for k={k}: {times[k]:.4f} seconds\")\n",
    "  return accuracies, times"
   ]
  },
  {
   "cell_type": "markdown",
   "metadata": {},
   "source": [
    "2. Visualize the Results:\n",
    "• Plot the following graphs:\n",
    "– k vs. Accuracy for original and scaled datasets.\n",
    "– k vs. Time Taken for original and scaled datasets."
   ]
  },
  {
   "cell_type": "code",
   "execution_count": null,
   "metadata": {},
   "outputs": [],
   "source": [
    "# Define the range of k values to experiment with\n",
    "k_values = range(1, 15)\n",
    "\n",
    "try:\n",
    "    accuracies, times = experiment_knn_k_values(x_train, y_train, x_test, y_test, k_values)\n",
    "    \n",
    "    plt.figure(figsize=(15, 5))\n",
    "    # Plot Accuracy vs k\n",
    "    plt.subplot(1, 2, 1) \n",
    "    plt.plot(k_values, list(accuracies.values()), marker='o', color='b')\n",
    "    plt.xlabel(\"k (Number of Neighbors)\")\n",
    "    plt.ylabel(\"Accuracy (%)\")\n",
    "    plt.title(\"Accuracy of KNN with different values of k\")\n",
    "    plt.grid()\n",
    "\n",
    "    # Plot Time Taken vs k\n",
    "    plt.subplot(1, 2, 2)  \n",
    "    plt.plot(k_values, list(times.values()), marker='o', color='r')\n",
    "    plt.xlabel(\"k (Number of Neighbors)\")\n",
    "    plt.ylabel(\"Time Taken (seconds)\")\n",
    "    plt.title(\"Time Taken for KNN with different values of k\")\n",
    "    plt.grid()\n",
    "\n",
    "    # Display the plots\n",
    "    plt.tight_layout()\n",
    "    plt.show()\n",
    "    \n",
    "    print(\"Experiment completed. Check the plots for accuracy and time trends.\")\n",
    "\n",
    "except Exception as e:\n",
    "    print(f\"An unexpected error occurred during the experiment: {e}\")\n"
   ]
  }
 ],
 "metadata": {
  "kernelspec": {
   "display_name": "Python 3",
   "language": "python",
   "name": "python3"
  },
  "language_info": {
   "codemirror_mode": {
    "name": "ipython",
    "version": 3
   },
   "file_extension": ".py",
   "mimetype": "text/x-python",
   "name": "python",
   "nbconvert_exporter": "python",
   "pygments_lexer": "ipython3",
   "version": "3.12.1"
  }
 },
 "nbformat": 4,
 "nbformat_minor": 2
}
