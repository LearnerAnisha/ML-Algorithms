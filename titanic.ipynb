{
 "cells": [
  {
   "cell_type": "code",
   "execution_count": 1,
   "metadata": {},
   "outputs": [],
   "source": [
    "import pandas as pd \n",
    "import numpy as np"
   ]
  },
  {
   "cell_type": "markdown",
   "metadata": {},
   "source": [
    "Step1 : Understanding data"
   ]
  },
  {
   "cell_type": "code",
   "execution_count": 24,
   "metadata": {},
   "outputs": [
    {
     "name": "stdout",
     "output_type": "stream",
     "text": [
      "Data after processing:\n",
      "    PassengerId  Survived  Pclass   Age  SibSp  Parch     Fare\n",
      "0            1         0       3  22.0      1      0   7.2500\n",
      "1            2         1       1  38.0      1      0  71.2833\n",
      "2            3         1       3  26.0      0      0   7.9250\n",
      "3            4         1       1  35.0      1      0  53.1000\n",
      "4            5         0       3  35.0      0      0   8.0500\n",
      "Missing values after processing:\n",
      " PassengerId      0\n",
      "Survived         0\n",
      "Pclass           0\n",
      "Name             0\n",
      "Sex              0\n",
      "Age            177\n",
      "SibSp            0\n",
      "Parch            0\n",
      "Ticket           0\n",
      "Fare             0\n",
      "Cabin          687\n",
      "Embarked         2\n",
      "dtype: int64\n"
     ]
    }
   ],
   "source": [
    "# load the titanic data set\n",
    "data = pd.read_csv(\"/Users/anishagautam/Personal/ML Algorithm/titanic.csv\")\n",
    "\n",
    "#select categorical columns\n",
    "categorical_columns = data.select_dtypes(include=['object']).columns\n",
    "\n",
    "# drop all categorical columns except \"survived\"\n",
    "data = data.drop(columns=[col for col in categorical_columns if col!= 'Survived'])\n",
    "\n",
    "# check for missing values\n",
    "missing_info = data.isnull().sum()/ (len(data)*100)\n",
    "\n",
    "# handle missing values\n",
    "for column in data.columns:\n",
    "  if ( missing_info[column] > 10):\n",
    "    data[column].fillna(data[column].mean(),inplace=True)\n",
    "  else:\n",
    "    data.dropna(subset=[column],inplace=True)\n",
    "\n",
    "#display clean data\n",
    "print(f\"Data after processing:\\n {data.head()}\")\n",
    "print(f\"Missing values after processing:\\n {data.isnull().sum()}\")"
   ]
  }
 ],
 "metadata": {
  "kernelspec": {
   "display_name": "Python 3",
   "language": "python",
   "name": "python3"
  },
  "language_info": {
   "codemirror_mode": {
    "name": "ipython",
    "version": 3
   },
   "file_extension": ".py",
   "mimetype": "text/x-python",
   "name": "python",
   "nbconvert_exporter": "python",
   "pygments_lexer": "ipython3",
   "version": "3.12.1"
  }
 },
 "nbformat": 4,
 "nbformat_minor": 2
}
